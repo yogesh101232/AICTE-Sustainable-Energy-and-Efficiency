{
 "cells": [
  {
   "cell_type": "code",
   "execution_count": null,
   "id": "29a6569f",
   "metadata": {
    "vscode": {
     "languageId": "plaintext"
    }
   },
   "outputs": [],
   "source": [
    "# Sustainable Energy and Efficiency: Data Analysis & AI Modeling\n",
    "**Author:** Yogesh Kumar Sharma  \n",
    "**Date:** 31-Aug-2025  "
   ]
  },
  {
   "cell_type": "code",
   "execution_count": null,
   "id": "1ef17e37",
   "metadata": {
    "vscode": {
     "languageId": "plaintext"
    }
   },
   "outputs": [],
   "source": [
    "## 1. Introduction\n",
    "Sustainable energy is critical for reducing carbon emissions and improving efficiency in energy use.  \n",
    "**Objective:**  \n",
    "- Explore trends in renewable energy adoption and efficiency metrics.  \n",
    "- Build a predictive model to estimate energy efficiency scores.  \n",
    "- Provide actionable insights for policy and industry.\n",
    "\n",
    "\n",
    "\n",
    "## 2. Dataset Overview\n",
    "**Source:** [EnergyData.csv]  \n",
    "**Description:** Entity,Year,Access to electricity (% of population),Access to clean fuels for cooking,Renewable-electricity-generating-capacity-per-capita,Financial flows to developing countries (US $),Renewable energy share in the total final energy consumption (%),Electricity from fossil fuels (TWh),Electricity from nuclear (TWh),Electricity from renewables (TWh),Low-carbon electricity (% electricity),Primary energy consumption per capita (kWh/person),Energy intensity level of primary energy (MJ/$2017 PPP GDP),Value_co2_emissions_kt_by_country,Renewables (% equivalent primary energy),gdp_growth,gdp_per_capita,Density\n(P/Km2),Land Area(Km2),Latitude,Longitude  \n",
    "**Timeframe:** Years covered, regions included.  \n",
    "\n"
   ]
  },
  {
   "cell_type": "code",
   "execution_count": null,
   "id": "f3119152",
   "metadata": {
    "vscode": {
     "languageId": "plaintext"
    }
   },
   "outputs": [],
   "source": [
    "#Import Required Libraries\n",
    "import numpy as np \n",
    "import pandas as pd \n",
    "import matplotlib.pyplot as plt\n",
    "import seaborn as sns\n",
    "from sklearn.preprocessing import StandardScaler \n",
    "from sklearn.model_selection import train_test_split \n",
    "from sklearn.linear_model import LinearRegression\n",
    "from sklearn.ensemble import RandomForestRegressor\n",
    "from sklearn.metrics import mean_absolute_error, mean_squared_error, r2_score\n",
    "from datetime import datetime  # To handle time based features \n",
    "import joblib"
   ]
  },
  {
   "cell_type": "code",
   "execution_count": null,
   "id": "fd8cdc41",
   "metadata": {
    "vscode": {
     "languageId": "plaintext"
    }
   },
   "outputs": [],
   "source": [
    "\n",
    "# Load dataset\n",
    "df = pd.read_csv('Energydata.csv')\n",
    "\n",
    "\n",
    "df.head()\n",
    "df.info()\n",
    "df.describe()"
   ]
  }
 ],
 "metadata": {
  "language_info": {
   "name": "python"
  }
 },
 "nbformat": 4,
 "nbformat_minor": 5
}
